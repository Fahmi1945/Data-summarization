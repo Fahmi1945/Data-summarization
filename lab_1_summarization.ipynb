{
  "nbformat": 4,
  "nbformat_minor": 0,
  "metadata": {
    "colab": {
      "provenance": [],
      "authorship_tag": "ABX9TyOAd3IsFWKiXcdYIIIYUEjB",
      "include_colab_link": true
    },
    "kernelspec": {
      "name": "python3",
      "display_name": "Python 3"
    },
    "language_info": {
      "name": "python"
    }
  },
  "cells": [
    {
      "cell_type": "markdown",
      "metadata": {
        "id": "view-in-github",
        "colab_type": "text"
      },
      "source": [
        "<a href=\"https://colab.research.google.com/github/Fahmi1945/Data-summarization/blob/main/lab_1_summarization.ipynb\" target=\"_parent\"><img src=\"https://colab.research.google.com/assets/colab-badge.svg\" alt=\"Open In Colab\"/></a>"
      ]
    },
    {
      "cell_type": "code",
      "execution_count": null,
      "metadata": {
        "colab": {
          "base_uri": "https://localhost:8080/"
        },
        "collapsed": true,
        "id": "5dP47dKNsFLz",
        "outputId": "3d88467e-f0e8-4096-e637-26856db9cced"
      },
      "outputs": [
        {
          "output_type": "stream",
          "name": "stdout",
          "text": [
            "Requirement already satisfied: langchain_community in /usr/local/lib/python3.11/dist-packages (0.3.27)\n",
            "Requirement already satisfied: langchain-core<1.0.0,>=0.3.66 in /usr/local/lib/python3.11/dist-packages (from langchain_community) (0.3.72)\n",
            "Requirement already satisfied: langchain<1.0.0,>=0.3.26 in /usr/local/lib/python3.11/dist-packages (from langchain_community) (0.3.27)\n",
            "Requirement already satisfied: SQLAlchemy<3,>=1.4 in /usr/local/lib/python3.11/dist-packages (from langchain_community) (2.0.41)\n",
            "Requirement already satisfied: requests<3,>=2 in /usr/local/lib/python3.11/dist-packages (from langchain_community) (2.32.3)\n",
            "Requirement already satisfied: PyYAML>=5.3 in /usr/local/lib/python3.11/dist-packages (from langchain_community) (6.0.2)\n",
            "Requirement already satisfied: aiohttp<4.0.0,>=3.8.3 in /usr/local/lib/python3.11/dist-packages (from langchain_community) (3.12.14)\n",
            "Requirement already satisfied: tenacity!=8.4.0,<10,>=8.1.0 in /usr/local/lib/python3.11/dist-packages (from langchain_community) (8.5.0)\n",
            "Requirement already satisfied: dataclasses-json<0.7,>=0.5.7 in /usr/local/lib/python3.11/dist-packages (from langchain_community) (0.6.7)\n",
            "Requirement already satisfied: pydantic-settings<3.0.0,>=2.4.0 in /usr/local/lib/python3.11/dist-packages (from langchain_community) (2.10.1)\n",
            "Requirement already satisfied: langsmith>=0.1.125 in /usr/local/lib/python3.11/dist-packages (from langchain_community) (0.4.8)\n",
            "Requirement already satisfied: httpx-sse<1.0.0,>=0.4.0 in /usr/local/lib/python3.11/dist-packages (from langchain_community) (0.4.1)\n",
            "Requirement already satisfied: numpy>=1.26.2 in /usr/local/lib/python3.11/dist-packages (from langchain_community) (2.0.2)\n",
            "Requirement already satisfied: aiohappyeyeballs>=2.5.0 in /usr/local/lib/python3.11/dist-packages (from aiohttp<4.0.0,>=3.8.3->langchain_community) (2.6.1)\n",
            "Requirement already satisfied: aiosignal>=1.4.0 in /usr/local/lib/python3.11/dist-packages (from aiohttp<4.0.0,>=3.8.3->langchain_community) (1.4.0)\n",
            "Requirement already satisfied: attrs>=17.3.0 in /usr/local/lib/python3.11/dist-packages (from aiohttp<4.0.0,>=3.8.3->langchain_community) (25.3.0)\n",
            "Requirement already satisfied: frozenlist>=1.1.1 in /usr/local/lib/python3.11/dist-packages (from aiohttp<4.0.0,>=3.8.3->langchain_community) (1.7.0)\n",
            "Requirement already satisfied: multidict<7.0,>=4.5 in /usr/local/lib/python3.11/dist-packages (from aiohttp<4.0.0,>=3.8.3->langchain_community) (6.6.3)\n",
            "Requirement already satisfied: propcache>=0.2.0 in /usr/local/lib/python3.11/dist-packages (from aiohttp<4.0.0,>=3.8.3->langchain_community) (0.3.2)\n",
            "Requirement already satisfied: yarl<2.0,>=1.17.0 in /usr/local/lib/python3.11/dist-packages (from aiohttp<4.0.0,>=3.8.3->langchain_community) (1.20.1)\n",
            "Requirement already satisfied: marshmallow<4.0.0,>=3.18.0 in /usr/local/lib/python3.11/dist-packages (from dataclasses-json<0.7,>=0.5.7->langchain_community) (3.26.1)\n",
            "Requirement already satisfied: typing-inspect<1,>=0.4.0 in /usr/local/lib/python3.11/dist-packages (from dataclasses-json<0.7,>=0.5.7->langchain_community) (0.9.0)\n",
            "Requirement already satisfied: langchain-text-splitters<1.0.0,>=0.3.9 in /usr/local/lib/python3.11/dist-packages (from langchain<1.0.0,>=0.3.26->langchain_community) (0.3.9)\n",
            "Requirement already satisfied: pydantic<3.0.0,>=2.7.4 in /usr/local/lib/python3.11/dist-packages (from langchain<1.0.0,>=0.3.26->langchain_community) (2.11.7)\n",
            "Requirement already satisfied: jsonpatch<2.0,>=1.33 in /usr/local/lib/python3.11/dist-packages (from langchain-core<1.0.0,>=0.3.66->langchain_community) (1.33)\n",
            "Requirement already satisfied: typing-extensions>=4.7 in /usr/local/lib/python3.11/dist-packages (from langchain-core<1.0.0,>=0.3.66->langchain_community) (4.14.1)\n",
            "Requirement already satisfied: packaging>=23.2 in /usr/local/lib/python3.11/dist-packages (from langchain-core<1.0.0,>=0.3.66->langchain_community) (25.0)\n",
            "Requirement already satisfied: httpx<1,>=0.23.0 in /usr/local/lib/python3.11/dist-packages (from langsmith>=0.1.125->langchain_community) (0.28.1)\n",
            "Requirement already satisfied: orjson<4.0.0,>=3.9.14 in /usr/local/lib/python3.11/dist-packages (from langsmith>=0.1.125->langchain_community) (3.11.1)\n",
            "Requirement already satisfied: requests-toolbelt<2.0.0,>=1.0.0 in /usr/local/lib/python3.11/dist-packages (from langsmith>=0.1.125->langchain_community) (1.0.0)\n",
            "Requirement already satisfied: zstandard<0.24.0,>=0.23.0 in /usr/local/lib/python3.11/dist-packages (from langsmith>=0.1.125->langchain_community) (0.23.0)\n",
            "Requirement already satisfied: python-dotenv>=0.21.0 in /usr/local/lib/python3.11/dist-packages (from pydantic-settings<3.0.0,>=2.4.0->langchain_community) (1.1.1)\n",
            "Requirement already satisfied: typing-inspection>=0.4.0 in /usr/local/lib/python3.11/dist-packages (from pydantic-settings<3.0.0,>=2.4.0->langchain_community) (0.4.1)\n",
            "Requirement already satisfied: charset-normalizer<4,>=2 in /usr/local/lib/python3.11/dist-packages (from requests<3,>=2->langchain_community) (3.4.2)\n",
            "Requirement already satisfied: idna<4,>=2.5 in /usr/local/lib/python3.11/dist-packages (from requests<3,>=2->langchain_community) (3.10)\n",
            "Requirement already satisfied: urllib3<3,>=1.21.1 in /usr/local/lib/python3.11/dist-packages (from requests<3,>=2->langchain_community) (2.5.0)\n",
            "Requirement already satisfied: certifi>=2017.4.17 in /usr/local/lib/python3.11/dist-packages (from requests<3,>=2->langchain_community) (2025.7.14)\n",
            "Requirement already satisfied: greenlet>=1 in /usr/local/lib/python3.11/dist-packages (from SQLAlchemy<3,>=1.4->langchain_community) (3.2.3)\n",
            "Requirement already satisfied: anyio in /usr/local/lib/python3.11/dist-packages (from httpx<1,>=0.23.0->langsmith>=0.1.125->langchain_community) (4.9.0)\n",
            "Requirement already satisfied: httpcore==1.* in /usr/local/lib/python3.11/dist-packages (from httpx<1,>=0.23.0->langsmith>=0.1.125->langchain_community) (1.0.9)\n",
            "Requirement already satisfied: h11>=0.16 in /usr/local/lib/python3.11/dist-packages (from httpcore==1.*->httpx<1,>=0.23.0->langsmith>=0.1.125->langchain_community) (0.16.0)\n",
            "Requirement already satisfied: jsonpointer>=1.9 in /usr/local/lib/python3.11/dist-packages (from jsonpatch<2.0,>=1.33->langchain-core<1.0.0,>=0.3.66->langchain_community) (3.0.0)\n",
            "Requirement already satisfied: annotated-types>=0.6.0 in /usr/local/lib/python3.11/dist-packages (from pydantic<3.0.0,>=2.7.4->langchain<1.0.0,>=0.3.26->langchain_community) (0.7.0)\n",
            "Requirement already satisfied: pydantic-core==2.33.2 in /usr/local/lib/python3.11/dist-packages (from pydantic<3.0.0,>=2.7.4->langchain<1.0.0,>=0.3.26->langchain_community) (2.33.2)\n",
            "Requirement already satisfied: mypy-extensions>=0.3.0 in /usr/local/lib/python3.11/dist-packages (from typing-inspect<1,>=0.4.0->dataclasses-json<0.7,>=0.5.7->langchain_community) (1.1.0)\n",
            "Requirement already satisfied: sniffio>=1.1 in /usr/local/lib/python3.11/dist-packages (from anyio->httpx<1,>=0.23.0->langsmith>=0.1.125->langchain_community) (1.3.1)\n",
            "Requirement already satisfied: replicate in /usr/local/lib/python3.11/dist-packages (1.0.7)\n",
            "Requirement already satisfied: httpx<1,>=0.21.0 in /usr/local/lib/python3.11/dist-packages (from replicate) (0.28.1)\n",
            "Requirement already satisfied: packaging in /usr/local/lib/python3.11/dist-packages (from replicate) (25.0)\n",
            "Requirement already satisfied: pydantic>1.10.7 in /usr/local/lib/python3.11/dist-packages (from replicate) (2.11.7)\n",
            "Requirement already satisfied: typing_extensions>=4.5.0 in /usr/local/lib/python3.11/dist-packages (from replicate) (4.14.1)\n",
            "Requirement already satisfied: anyio in /usr/local/lib/python3.11/dist-packages (from httpx<1,>=0.21.0->replicate) (4.9.0)\n",
            "Requirement already satisfied: certifi in /usr/local/lib/python3.11/dist-packages (from httpx<1,>=0.21.0->replicate) (2025.7.14)\n",
            "Requirement already satisfied: httpcore==1.* in /usr/local/lib/python3.11/dist-packages (from httpx<1,>=0.21.0->replicate) (1.0.9)\n",
            "Requirement already satisfied: idna in /usr/local/lib/python3.11/dist-packages (from httpx<1,>=0.21.0->replicate) (3.10)\n",
            "Requirement already satisfied: h11>=0.16 in /usr/local/lib/python3.11/dist-packages (from httpcore==1.*->httpx<1,>=0.21.0->replicate) (0.16.0)\n",
            "Requirement already satisfied: annotated-types>=0.6.0 in /usr/local/lib/python3.11/dist-packages (from pydantic>1.10.7->replicate) (0.7.0)\n",
            "Requirement already satisfied: pydantic-core==2.33.2 in /usr/local/lib/python3.11/dist-packages (from pydantic>1.10.7->replicate) (2.33.2)\n",
            "Requirement already satisfied: typing-inspection>=0.4.0 in /usr/local/lib/python3.11/dist-packages (from pydantic>1.10.7->replicate) (0.4.1)\n",
            "Requirement already satisfied: sniffio>=1.1 in /usr/local/lib/python3.11/dist-packages (from anyio->httpx<1,>=0.21.0->replicate) (1.3.1)\n"
          ]
        }
      ],
      "source": [
        "!pip install langchain_community\n",
        "!pip install replicate"
      ]
    },
    {
      "cell_type": "code",
      "source": [
        "from langchain_community.llms import Replicate\n",
        "import os\n",
        "from google.colab import userdata\n",
        "# Set the API token\n",
        "api_token = userdata.get('api_token')\n",
        "os.environ[\"REPLICATE_API_TOKEN\"] = api_token\n",
        "# Model setup\n",
        "model = \"ibm-granite/granite-3.3-8b-instruct\"\n",
        "output = Replicate(\n",
        "model=model,\n",
        "replicate_api_token=api_token,\n",
        ")"
      ],
      "metadata": {
        "id": "MKdMK8bOvIeq"
      },
      "execution_count": null,
      "outputs": []
    },
    {
      "cell_type": "code",
      "source": [
        "# Define the customer reviews\n",
        "customer_reviews = [\n",
        "    \"The battery lasts all day, and the performance is excellent.\",\n",
        "    \"The screen is too dim outdoors, but I love the colors indoors.\",\n",
        "    \"This phone is slow and keeps crashing when I open certain apps.\"\n",
        "]\n",
        "\n",
        "# Refine the prompt to include reviews\n",
        "reviews_text = \"\\n\".join(\n",
        "    [f\"Review {i+1}: {review}\" for i, review in enumerate(customer_reviews)]\n",
        ")\n",
        "\n",
        "# Create the prompt for the model\n",
        "prompt = f\"\"\"\n",
        "Classify these reviews as Positive, Negative, or Mixed:\n",
        "{reviews_text}\n",
        "\"\"\"\n",
        "\n",
        "# Invoke the model with the example prompt\n",
        "response = output.invoke(prompt)\n",
        "\n",
        "# Print the response\n",
        "print(\"Granite Model Response:\\n\")\n",
        "print(response)"
      ],
      "metadata": {
        "colab": {
          "base_uri": "https://localhost:8080/"
        },
        "id": "Ydnspw_2vIcD",
        "outputId": "ace034a8-b74d-4a15-a8a3-0d39684d6ffd"
      },
      "execution_count": null,
      "outputs": [
        {
          "output_type": "stream",
          "name": "stdout",
          "text": [
            "Granite Model Response:\n",
            "\n",
            "1. Positive: The review highlights the strengths of the product, mentioning a long-lasting battery and excellent performance.\n",
            "\n",
            "2. Mixed: This review presents both a positive aspect (love the colors indoors) and a negative aspect (screen too dim outdoors).\n",
            "\n",
            "3. Negative: The review expresses dissatisfaction with the phone's performance, specifically pointing out slow speed and frequent crashes when opening certain apps.\n"
          ]
        }
      ]
    },
    {
      "cell_type": "code",
      "source": [
        "# Define refined prompt\n",
        "refined_prompt = f\"\"\"\n",
        "Classify these reviews as positive, negative, or mixed, and tag\n",
        "relevant categories (battery life, screen quality, or performance):\n",
        "{reviews_text}\n",
        "\"\"\"\n",
        "\n",
        "# Invoke the model with the example prompt\n",
        "response = output.invoke(refined_prompt)\n",
        "\n",
        "# Print the response\n",
        "print(\"Granite Model Refined Response:\\n\")\n",
        "print(response)"
      ],
      "metadata": {
        "colab": {
          "base_uri": "https://localhost:8080/"
        },
        "id": "QDA0Wr03vIZE",
        "outputId": "993db4e7-b001-445b-cf59-406920ccaba4"
      },
      "execution_count": null,
      "outputs": [
        {
          "output_type": "stream",
          "name": "stdout",
          "text": [
            "Granite Model Refined Response:\n",
            "\n",
            "1. Review 1: Positive, Tags - Battery Life (Positive), Performance (Positive)\n",
            "2. Review 2: Mixed, Tags - Screen Quality (Negative - dim outdoors, Positive - good colors indoors)\n",
            "3. Review 3: Negative, Tags - Performance (Negative - slow, crashes)\n",
            "\n",
            "Explanation:\n",
            "\n",
            "- Review 1 expresses satisfaction with both battery life and performance, classifying it as positive.\n",
            "\n",
            "- Review 2 presents a mixed sentiment. While the reviewer is dissatisfied with the screen quality outdoors (dim), they are pleased with the color accuracy indoors. Thus, it's tagged as mixed with specific screen quality concerns.\n",
            "\n",
            "- Review 3 is clearly negative, as it highlights issues with the phone's performance - it's slow and crashes when opening certain apps, indicating significant problems. It's tagged under Performance (Negative).\n"
          ]
        }
      ]
    },
    {
      "cell_type": "code",
      "source": [
        "# Define the prompt to complete the task in 2 steps\n",
        "multitask_prompt = f\"\"\"\n",
        "Complete the task in 2 steps.\n",
        "Step 1: Classify these reviews as positive, negative, or mixed.\n",
        "Step 2: For each review, identify relevant categories: battery life, screen quality, or performance.\n",
        "{reviews_text}\n",
        "\"\"\"\n",
        "\n",
        "response = output.invoke(multitask_prompt)\n",
        "print(\"Granite Model Response:\\n\")\n",
        "print(response)"
      ],
      "metadata": {
        "colab": {
          "base_uri": "https://localhost:8080/"
        },
        "id": "QP6nN2WnvIRN",
        "outputId": "1ee4f23b-4e53-4db7-d58d-8fc66f18cce6"
      },
      "execution_count": null,
      "outputs": [
        {
          "output_type": "stream",
          "name": "stdout",
          "text": [
            "Granite Model Response:\n",
            "\n",
            "### Step 1: Classify the Reviews\n",
            "\n",
            "1. **Review 1**: Positive\n",
            "   - The user expresses satisfaction with both battery life (\"lasts all day\") and performance (\"excellent\").\n",
            "\n",
            "2. **Review 2**: Mixed\n",
            "   - Positive feedback on screen quality indoors (\"love the colors\"), but a negative comment on screen brightness outdoors (\"too dim\").\n",
            "\n",
            "3. **Review 3**: Negative\n",
            "   - The user criticizes the phone's performance (\"slow\") and reports a functional issue (\"keeps crashing\").\n",
            "\n",
            "### Step 2: Identify Relevant Categories\n",
            "\n",
            "1. **Review 1**:\n",
            "   - Battery Life: Positive\n",
            "   - Performance: Positive\n",
            "\n",
            "2. **Review 2**:\n",
            "   - Screen Quality: Mixed (Positive - \"love the colors\"; Negative - \"too dim outdoors\")\n",
            "\n",
            "3. **Review 3**:\n",
            "   - Performance: Negative (\"slow\")\n",
            "   - Potentially, there's an implied issue with Stability/Reliability (\"keeps crashing\").\n",
            "\n",
            "These categorizations help pinpoint the specific aspects of the phone that reviewers are praising or criticizing.\n"
          ]
        }
      ]
    },
    {
      "cell_type": "code",
      "source": [
        "# Define the example to guide the model\n",
        "formatted_prompt = f\"\"\"\n",
        "Classify these reviews as Positive, Negative, or Mixed, and tag relevant categories. Use this format:\n",
        "Sentiment: [Sentiment]\n",
        "Categories: [Categories].\n",
        "{reviews_text}\n",
        "\"\"\"\n",
        "\n",
        "#Invoke the model with prompt\n",
        "response = output.invoke(formatted_prompt)\n",
        "\n",
        "# Print the response\n",
        "print(\"Granite Model Formatted Response:\\n\")\n",
        "print(response)"
      ],
      "metadata": {
        "colab": {
          "base_uri": "https://localhost:8080/"
        },
        "id": "4ljR9nyhvIDI",
        "outputId": "68f03a60-48cc-4782-c635-38eef289d619"
      },
      "execution_count": null,
      "outputs": [
        {
          "output_type": "stream",
          "name": "stdout",
          "text": [
            "Granite Model Formatted Response:\n",
            "\n",
            "Sentiment: Positive\n",
            "Categories: Battery life, Performance\n",
            "\n",
            "Sentiment: Mixed\n",
            "Categories: Display, Outdoor visibility\n",
            "\n",
            "Sentiment: Negative\n",
            "Categories: Performance, Stability, App compatibility\n"
          ]
        }
      ]
    },
    {
      "cell_type": "code",
      "source": [
        "customer_meetings = [\n",
        "    \"\"\"The meeting began with a discussion of the Q3 marketing budget. It was decided that 40% of the budget will go to digital ads, 30% to events, and 30% to social media campaigns. The team emphasized the need for influencer partnerships to increase brand visibility and email marketing to boost direct engagement. A pilot program to test new ad formats will launch next month, with the team reviewing results by the end of Q3.\n",
        "    Later, the team discussed campaign performance metrics. ROI monitoring will be a top priority, and adjustments will be made based on performance data. The events team raised concerns about resource allocation for upcoming trade shows, and it was agreed that an additional $10,000 would be reallocated to cover these costs.\n",
        "    Lastly, the team reviewed new creative concepts for the upcoming campaign, deciding to proceed with Concept B, which tested better among focus groups. Deadlines for campaign assets were finalized: all deliverables must be submitted by July 15.\"\"\"\n",
        "]\n",
        "\n",
        "# Refine the prompt to include reviews\n",
        "reviews_text = \"\\n\".join([f\"Review {i+1}: {review}\" for i, review in enumerate(customer_meetings)])\n",
        "\n",
        "prompt = f\"\"\"\n",
        "Summarize this meeting:\n",
        "{reviews_text}\n",
        "\"\"\"\n",
        "\n",
        "# Invoke the model with example prompt\n",
        "response = output.invoke(prompt)\n",
        "\n",
        "# Print the response\n",
        "print(\"Granite Model Response:\\n\")\n",
        "print(response)"
      ],
      "metadata": {
        "colab": {
          "base_uri": "https://localhost:8080/"
        },
        "id": "Mqs6maG36dUJ",
        "outputId": "beb6bff4-4e1a-46fd-ea29-d62945c04429"
      },
      "execution_count": null,
      "outputs": [
        {
          "output_type": "stream",
          "name": "stdout",
          "text": [
            "Granite Model Response:\n",
            "\n",
            "In the Q3 marketing budget review meeting, the team allocated 40% to digital ads, 30% each to events and social media campaigns. They stressed the importance of influencer partnerships and email marketing for brand visibility and direct engagement. A pilot program for new ad formats will start next month, with a review by Q3 end. \n",
            "\n",
            "Campaign performance metrics, particularly ROI, were identified as crucial, with adjustments to be made based on data. The events team received an additional $10,000 for resource allocation to upcoming trade shows. \n",
            "\n",
            "New creative concepts were reviewed, and Concept B, which performed well in focus groups, was chosen. All campaign assets must be submitted by July 15 to meet the finalized deadlines.\n"
          ]
        }
      ]
    },
    {
      "cell_type": "code",
      "source": [
        "# Define refined prompt\n",
        "refined_prompt = f\"\"\"\n",
        "Summarize this meeting in three sentences:\n",
        "{reviews_text}\n",
        "\"\"\"\n",
        "\n",
        "#Invoke the model with refined prompt\n",
        "response = output.invoke(refined_prompt)\n",
        "\n",
        "# Print the response\n",
        "print(\"Granite Model Refined Response:\\n\")\n",
        "print(response)"
      ],
      "metadata": {
        "colab": {
          "base_uri": "https://localhost:8080/"
        },
        "id": "hO2Z1Ap26dQR",
        "outputId": "4f3f863b-b92c-460f-b270-7d8a6bdcda5a"
      },
      "execution_count": null,
      "outputs": [
        {
          "output_type": "stream",
          "name": "stdout",
          "text": [
            "Granite Model Refined Response:\n",
            "\n",
            "In the Q3 marketing budget review meeting, 40% was allocated to digital ads, 30% to events, and 30% to social media campaigns, with a pilot program for new ad formats set to launch next month. The team prioritized ROI monitoring, reallocated an extra $10,000 for trade show resources, and chose Concept B for the upcoming campaign, finalizing asset submission deadlines for July 15.\n"
          ]
        }
      ]
    },
    {
      "cell_type": "code",
      "source": [
        "# Define the prompt with refined focus area prompt\n",
        "refined_focusarea_prompt = f\"\"\"\n",
        "Summarize this meeting by focusing on key points, decisions made, and action items:\n",
        "{reviews_text}\n",
        "\"\"\"\n",
        "\n",
        "response = output.invoke(refined_focusarea_prompt)\n",
        "print(\"Granite Model Response for refined focus area response:\\n\")\n",
        "print(response)"
      ],
      "metadata": {
        "colab": {
          "base_uri": "https://localhost:8080/"
        },
        "id": "n44irIVF6dOm",
        "outputId": "848c078c-3438-44a9-f52a-19a45e2d1e8a"
      },
      "execution_count": null,
      "outputs": [
        {
          "output_type": "stream",
          "name": "stdout",
          "text": [
            "Granite Model Response for refined focus area response:\n",
            "\n",
            "**Meeting Summary:**\n",
            "\n",
            "1. **Q3 Marketing Budget Allocation:**\n",
            "   - Digital ads: 40%\n",
            "   - Events: 30%\n",
            "   - Social media campaigns: 30%\n",
            "   - Emphasis on influencer partnerships and email marketing for increased visibility and direct engagement.\n",
            "\n",
            "2. **Pilot Program:**\n",
            "   - Launch of a pilot program to test new ad formats next month.\n",
            "   - Performance review and decision-making based on results by the end of Q3.\n",
            "\n",
            "3. **Campaign Performance Metrics & Resource Allocation:**\n",
            "   - ROI monitoring will be a priority.\n",
            "   - Additional $10,000 reallocation to events team for resource needs in upcoming trade shows.\n",
            "\n",
            "4. **New Creative Concepts:**\n",
            "   - Decision to proceed with Concept B, which performed best in focus groups.\n",
            "   - Finalized deadlines: all campaign assets submission by July 15.\n",
            "\n",
            "**Action Items:**\n",
            "\n",
            "- Finalize digital ad strategies and initiate 40% budget allocation.\n",
            "- Plan and prepare for influencer partnerships and email marketing campaigns.\n",
            "- Execute the pilot program for new ad formats, with a review scheduled by Q3 end.\n",
            "- Closely monitor ROI and adjust strategies accordingly.\n",
            "- Ensure events team has the extra $10,000 for trade show preparations.\n",
            "- Complete and submit all campaign assets by July 15, focusing on Concept B.\n"
          ]
        }
      ]
    },
    {
      "cell_type": "code",
      "source": [
        "# Define the prompt with refined output prompt\n",
        "refined_outputformat_prompt = f\"\"\"\n",
        "Summarize this meeting into a structured format using the following headings: Key Points Discussed, Decisions Made, and Action Items. Mention timelines. Include only two concise bullet points under each heading.\n",
        "{reviews_text}\n",
        "\"\"\"\n",
        "\n",
        "response = output.invoke(refined_outputformat_prompt)\n",
        "print(\"Granite Model Response for refined output format response:\\n\")\n",
        "print(response)"
      ],
      "metadata": {
        "colab": {
          "base_uri": "https://localhost:8080/"
        },
        "id": "NCFbx0276dMk",
        "outputId": "17223baa-b1e7-4f26-b3bb-87dcff4c5d8d"
      },
      "execution_count": null,
      "outputs": [
        {
          "output_type": "stream",
          "name": "stdout",
          "text": [
            "Granite Model Response for refined output format response:\n",
            "\n",
            "**Key Points Discussed:**\n",
            "\n",
            "- Q3 marketing budget allocation: 40% digital ads, 30% events, 30% social media campaigns; emphasis on influencer partnerships and email marketing.\n",
            "- Campaign performance metrics prioritization: Focus on ROI, adjustments based on performance data; additional $10,000 for events resource allocation.\n",
            "\n",
            "**Decisions Made:**\n",
            "\n",
            "- Pilot program for new ad formats to launch next month, with review by Q3 end.\n",
            "- Selection of Concept B for the upcoming campaign, with all assets submission deadline set for July 15.\n",
            "- Reallocation of $10,000 to address events team's resource concerns for trade shows.\n",
            "\n",
            "**Action Items:**\n",
            "\n",
            "- Execute the pilot program for new ad formats, review results by Q3 end.\n",
            "- Finalize and submit all campaign assets by July 15, adhering to Concept B.\n",
            "- Monitor campaign performance metrics closely, adjust strategies based on ROI data.\n"
          ]
        }
      ]
    },
    {
      "cell_type": "markdown",
      "source": [],
      "metadata": {
        "id": "Ir7L0mrG-UKX"
      }
    },
    {
      "cell_type": "markdown",
      "source": [],
      "metadata": {
        "id": "Yco4OPuNvHwn"
      }
    }
  ]
}